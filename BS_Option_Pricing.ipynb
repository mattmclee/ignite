{
  "nbformat": 4,
  "nbformat_minor": 0,
  "metadata": {
    "colab": {
      "provenance": [],
      "toc_visible": true,
      "authorship_tag": "ABX9TyNIZSX86mj9D9L9cjV1fZ5e",
      "include_colab_link": true
    },
    "kernelspec": {
      "name": "python3",
      "display_name": "Python 3"
    },
    "language_info": {
      "name": "python"
    }
  },
  "cells": [
    {
      "cell_type": "markdown",
      "metadata": {
        "id": "view-in-github",
        "colab_type": "text"
      },
      "source": [
        "<a href=\"https://colab.research.google.com/github/mattmclee/ignite/blob/master/BS_Option_Pricing.ipynb\" target=\"_parent\"><img src=\"https://colab.research.google.com/assets/colab-badge.svg\" alt=\"Open In Colab\"/></a>"
      ]
    },
    {
      "cell_type": "code",
      "execution_count": null,
      "metadata": {
        "id": "PvEDqvCVkTk2"
      },
      "outputs": [],
      "source": [
        "import numpy as np\n",
        "from scipy.stats import norm\n",
        "\n",
        "# Define the cumulative distribution function for a standard normal distribution\n",
        "N = norm.cdf\n",
        "\n",
        "def BS_CALL(S, K, T, r, sigma):\n",
        "    d1 = (np.log(S/K) + (r + sigma**2 / 2) * T) / (sigma * np.sqrt(T))\n",
        "    d2 = d1 - sigma * np.sqrt(T)\n",
        "    return S * N(d1) - K * np.exp(-r * T) * N(d2)\n",
        "\n",
        "def BS_PUT(S, K, T, r, sigma):\n",
        "    d1 = (np.log(S/K) + (r + sigma**2 / 2) * T) / (sigma * np.sqrt(T))\n",
        "    d2 = d1 - sigma * np.sqrt(T)\n",
        "    return K * np.exp(-r * T) * N(-d2) - S * N(-d1)\n",
        "\n",
        "# Example usage\n",
        "S = 100  # Current asset price\n",
        "K = 100  # Strike price\n",
        "T = 1    # Time until option expiration (in years)\n",
        "r = 0.1  # Risk-free rate\n",
        "sigma = 0.3  # Annualized volatility of the asset's returns\n",
        "\n",
        "call_price = BS_CALL(S, K, T, r, sigma)\n",
        "put_price = BS_PUT(S, K, T, r, sigma)\n",
        "\n",
        "print(f\"Call option price: {call_price:.2f}\")\n",
        "print(f\"Put option price: {put_price:.2f}\")\n",
        "\n",
        "\n"
      ]
    },
    {
      "cell_type": "code",
      "source": [],
      "metadata": {
        "id": "X89x8G06kZJU"
      },
      "execution_count": null,
      "outputs": []
    },
    {
      "cell_type": "markdown",
      "source": [
        "# New section"
      ],
      "metadata": {
        "id": "nHDCAa9jkaZa"
      }
    },
    {
      "cell_type": "markdown",
      "source": [
        "# New section"
      ],
      "metadata": {
        "id": "Znf5HW4ckch5"
      }
    },
    {
      "cell_type": "markdown",
      "source": [
        "# New section"
      ],
      "metadata": {
        "id": "JvXEC8O7kdzF"
      }
    },
    {
      "cell_type": "code",
      "source": [],
      "metadata": {
        "id": "26d1EIs9keLo"
      },
      "execution_count": null,
      "outputs": []
    },
    {
      "cell_type": "markdown",
      "source": [],
      "metadata": {
        "id": "d7DIkgiRkeci"
      }
    },
    {
      "cell_type": "code",
      "source": [],
      "metadata": {
        "id": "S47kNf4MkehW"
      },
      "execution_count": null,
      "outputs": []
    },
    {
      "cell_type": "code",
      "source": [],
      "metadata": {
        "id": "0o50rqOWkXj1"
      },
      "execution_count": null,
      "outputs": []
    }
  ]
}